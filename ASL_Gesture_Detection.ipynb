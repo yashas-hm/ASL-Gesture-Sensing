{
 "cells": [
  {
   "cell_type": "markdown",
   "id": "946e43b0-f594-480e-bf48-86dbe31753c2",
   "metadata": {},
   "source": [
    "# ASL Gesture Detection using OpenCV \n",
    "## This system detects some basic ASL gestures using OpenCV & Mediapipe."
   ]
  },
  {
   "cell_type": "markdown",
   "id": "35d50e85-f110-406f-b4a0-9459066afd7e",
   "metadata": {},
   "source": [
    "### Initial Imports"
   ]
  },
  {
   "cell_type": "code",
   "execution_count": null,
   "id": "f5b1d3f6-649c-43de-b321-d719d606a0d7",
   "metadata": {},
   "outputs": [],
   "source": [
    "import mediapipe as mp\n",
    "import time\n",
    "import cv2\n",
    "import numpy as np\n",
    "from matplotlib import pyplot as plt\n",
    "import os"
   ]
  },
  {
   "cell_type": "code",
   "execution_count": null,
   "id": "1745825d-b21a-49c1-9aca-73cc55e36ac5",
   "metadata": {},
   "outputs": [],
   "source": [
    "# Holistic detetction API (Hands, Face and Pose)\n",
    "mp_holistic = mp.solutions.holistic\n",
    "\n",
    "# Drawing Utilities for keypoint and landmark detection\n",
    "mp_drawings = mp.solutions.drawing_utils"
   ]
  },
  {
   "cell_type": "markdown",
   "id": "f06cf59e-dd50-48b1-a5b2-63dbcdf2478a",
   "metadata": {},
   "source": [
    "#### Camera openCV detects the colors as BGR so have to convert to RGB for mediapipe for detect"
   ]
  },
  {
   "cell_type": "code",
   "execution_count": null,
   "id": "aa64f514-da66-4720-b6f4-188d92052e87",
   "metadata": {},
   "outputs": [],
   "source": [
    "def mediapipe_detection(image, model):\n",
    "    image = cv2.cvtColor(image, cv2.COLOR_BGR2RGB)\n",
    "    image.flags.writeable = False\n",
    "    results = model.process(image)\n",
    "    image.flags.writeable = True\n",
    "    image = cv2.cvtColor(image, cv2.COLOR_RGB2BGR)\n",
    "    return image, results"
   ]
  },
  {
   "cell_type": "markdown",
   "id": "020addf1-c5b8-46e4-be70-82edca792dab",
   "metadata": {},
   "source": [
    "#### MediaPipe offers drawing utilities to change color, thickness and radius of landmarks and keypoints."
   ]
  },
  {
   "cell_type": "code",
   "execution_count": null,
   "id": "526b9d76-77a4-4d80-bcba-93e9c8a5ae54",
   "metadata": {},
   "outputs": [],
   "source": [
    "def draw_landmarks(image, results):\n",
    "    # Face Landmarks\n",
    "    mp_drawings.draw_landmarks(image, \n",
    "                               results.face_landmarks, \n",
    "                               mp_holistic.FACEMESH_TESSELATION, \n",
    "                               mp_drawings.DrawingSpec(color=(6, 70, 99), thickness=1, circle_radius=1), \n",
    "                               mp_drawings.DrawingSpec(color=(236, 179, 101), thickness=1, circle_radius=1))\n",
    "    # Pose Landmarks\n",
    "    mp_drawings.draw_landmarks(image, \n",
    "                               results.pose_landmarks, \n",
    "                               mp_holistic.POSE_CONNECTIONS, \n",
    "                               mp_drawings.DrawingSpec(color=(6, 70, 99), thickness=1, circle_radius=1), \n",
    "                               mp_drawings.DrawingSpec(color=(236, 179, 101), thickness=1, circle_radius=1))\n",
    "    # Left Hand Landmarks\n",
    "    mp_drawings.draw_landmarks(image, \n",
    "                               results.left_hand_landmarks, \n",
    "                               mp_holistic.HAND_CONNECTIONS, \n",
    "                               mp_drawings.DrawingSpec(color=(6, 70, 99), thickness=1, circle_radius=1), \n",
    "                               mp_drawings.DrawingSpec(color=(236, 179, 101), thickness=1, circle_radius=1))\n",
    "    # Right Hand \n",
    "    mp_drawings.draw_landmarks(image, \n",
    "                               results.right_hand_landmarks, \n",
    "                               mp_holistic.HAND_CONNECTIONS, \n",
    "                               mp_drawings.DrawingSpec(color=(6, 70, 99), thickness=1, circle_radius=1), \n",
    "                               mp_drawings.DrawingSpec(color=(236, 179, 101), thickness=1, circle_radius=1))"
   ]
  },
  {
   "cell_type": "markdown",
   "id": "b14962a3-7585-42fd-896d-bacd19793c84",
   "metadata": {},
   "source": [
    "## Testing Camera and MediaPipe Detection"
   ]
  },
  {
   "cell_type": "code",
   "execution_count": null,
   "id": "8e6108e4-2cd3-48b3-ae8f-6f2d1f3da2fb",
   "metadata": {},
   "outputs": [],
   "source": [
    "cap = cv2.VideoCapture(0)\n",
    "with mp_holistic.Holistic(min_detection_confidence=0.7, min_tracking_confidence=0.7) as holistic:\n",
    "    while cap.isOpened():\n",
    "        ret, frame = cap.read()\n",
    "\n",
    "        image, results = mediapipe_detection(frame, holistic)\n",
    "        # print(results)\n",
    "        draw_landmarks(image, results)\n",
    "        \n",
    "        cv2.imshow('OpenCV Feed', image)\n",
    "\n",
    "        if cv2.waitKey(10) & 0xFF == ord('q'):\n",
    "            break\n",
    "\n",
    "cap.release()\n",
    "cv2.destroyAllWindows()"
   ]
  },
  {
   "cell_type": "markdown",
   "id": "aed47baa-ffbd-4b7b-bd8f-e2d852e53a5a",
   "metadata": {},
   "source": [
    "## Keypoint Extraction\n",
    "Mediapipe returns results with X, Y, Z axis values. X & Y being offsets on 2D Plane and Z being distance from the camera.<br>\n",
    "All keypoints of face, hands and pose are concatenated to a single array. "
   ]
  },
  {
   "cell_type": "code",
   "execution_count": null,
   "id": "a661ee4f-860c-42dc-8d43-d23556e2b9ab",
   "metadata": {},
   "outputs": [],
   "source": [
    "def extract_keypoints(results):\n",
    "    pose = np.array([[res.x, res.y, res.z, res.visibility] for res in results.pose_landmarks.landmark]).flatten() if results.pose_landmarks else np.zeros(33*4)\n",
    "    face = np.array([[res.x, res.y, res.z] for res in results.face_landmarks.landmark]).flatten() if results.face_landmarks else np.zeros(468*3)\n",
    "    lh = np.array([[res.x, res.y, res.z] for res in results.left_hand_landmarks.landmark]).flatten() if results.left_hand_landmarks else np.zeros(21*3)\n",
    "    rh = np.array([[res.x, res.y, res.z] for res in results.right_hand_landmarks.landmark]).flatten() if results.right_hand_landmarks else np.zeros(21*3)\n",
    "    return np.concatenate([pose, face, lh, rh])"
   ]
  },
  {
   "cell_type": "markdown",
   "id": "547d852a-9c10-4b23-8a73-ce936c559f81",
   "metadata": {},
   "source": [
    "## Creating Dataset"
   ]
  },
  {
   "cell_type": "markdown",
   "id": "3a89dcb1-faba-47f2-8c92-f43b86aef19e",
   "metadata": {},
   "source": [
    "#### Initiating Variables"
   ]
  },
  {
   "cell_type": "code",
   "execution_count": null,
   "id": "20bb33a5-7f68-4886-8a34-13ec89d527f2",
   "metadata": {},
   "outputs": [],
   "source": [
    "# Path to save keypoints Array\n",
    "DATA_PATH = os.path.join('Keypoints_DATA')\n",
    "\n",
    "# Actions to be detected\n",
    "actions = np.array(['Hello', 'ThankYou'])\n",
    "\n",
    "# actions are used to store and make directories hence cant have space\n",
    "# words = np.array(['Hello', 'Thank You', 'I', 'Yes', 'No', 'Help', 'Please', 'Want', 'Food', 'Milk'])\n",
    "\n",
    "# no of videos for a single action\n",
    "no_sequence = 30\n",
    "\n",
    "# frames for a single action\n",
    "sequence_length = 30 "
   ]
  },
  {
   "cell_type": "markdown",
   "id": "51c96ef0-c1f7-4794-a15e-e4c1feea6b0a",
   "metadata": {},
   "source": [
    "#### Making Directories to store keypoint arrays for dataset"
   ]
  },
  {
   "cell_type": "code",
   "execution_count": null,
   "id": "87249ef6-4800-4c97-b17c-9cc705f93c48",
   "metadata": {},
   "outputs": [],
   "source": [
    "# for action in actions:\n",
    "#     for sequence in range(no_sequence):\n",
    "#         try:\n",
    "#             os.makedirs(os.path.join(DATA_PATH, action, str(sequence)))\n",
    "#         except:\n",
    "#             pass"
   ]
  },
  {
   "cell_type": "markdown",
   "id": "235cb299-6df6-42d3-8e89-19e50152ac30",
   "metadata": {},
   "source": [
    "#### Detecting and storing keypoints to directories"
   ]
  },
  {
   "cell_type": "code",
   "execution_count": null,
   "id": "8331a7e3-b237-4d09-b1cd-14e43a96e7e8",
   "metadata": {},
   "outputs": [],
   "source": [
    "# cap = cv2.VideoCapture(0)\n",
    "\n",
    "# with mp_holistic.Holistic(min_detection_confidence=0.7, min_tracking_confidence=0.7) as holistic:\n",
    "#     for action in actions:\n",
    "#         for sequence in range(no_sequence):\n",
    "#             for frame_num in range(sequence_length):\n",
    "#                 ret, frame = cap.read()\n",
    "\n",
    "#                 image, results = mediapipe_detection(frame, holistic)\n",
    "#                 # print(results)\n",
    "#                 draw_landmarks(image, results)\n",
    "\n",
    "#                 if frame_num == 0: \n",
    "#                     cv2.putText(image, 'STARTING COLLECTION', (120,200), \n",
    "#                                cv2.FONT_HERSHEY_SIMPLEX, 1, (0,255, 0), 4, cv2.LINE_AA)\n",
    "#                     cv2.putText(image, 'Collecting frames for {} Video Number {}'.format(action, sequence), (15,12), \n",
    "#                                cv2.FONT_HERSHEY_SIMPLEX, 0.5, (0, 0, 255), 1, cv2.LINE_AA)\n",
    "#                     cv2.imshow('OpenCV Feed', image)\n",
    "#                     cv2.waitKey(2000)\n",
    "#                 else: \n",
    "#                     cv2.putText(image, 'Collecting frames for {} Video Number {}'.format(action, sequence), (15,12), \n",
    "#                                cv2.FONT_HERSHEY_SIMPLEX, 0.5, (0, 0, 255), 1, cv2.LINE_AA)\n",
    "#                     cv2.imshow('OpenCV Feed', image)\n",
    "                \n",
    "#                 keypoints = extract_keypoints(results)\n",
    "#                 npy_path = os.path.join(DATA_PATH, action, str(sequence), str(frame_num))\n",
    "#                 np.save(npy_path, keypoints)\n",
    "\n",
    "#                 if cv2.waitKey(10) & 0xFF == ord('q'):\n",
    "#                     break\n",
    "                \n",
    "#     cap.release()\n",
    "#     cv2.destroyAllWindows()   "
   ]
  },
  {
   "cell_type": "code",
   "execution_count": null,
   "id": "e775dc27-a604-46c6-b33d-f0af1bd27e28",
   "metadata": {},
   "outputs": [],
   "source": [
    "    cap.release()\n",
    "    cv2.destroyAllWindows()   "
   ]
  },
  {
   "cell_type": "markdown",
   "id": "d2c22557-be6a-4650-a8d8-a32e2f5e30e3",
   "metadata": {},
   "source": [
    "## Data Preprocessing and Model Generation"
   ]
  },
  {
   "cell_type": "markdown",
   "id": "dc9098ab-ab75-47d6-bfb3-a006c9cbc87c",
   "metadata": {},
   "source": [
    "#### Imports for train test split and categorise data"
   ]
  },
  {
   "cell_type": "code",
   "execution_count": null,
   "id": "52340956-af3b-495a-8e74-dbc2fb36b9e4",
   "metadata": {},
   "outputs": [],
   "source": [
    "from sklearn.model_selection import train_test_split\n",
    "from tensorflow.keras.utils import to_categorical"
   ]
  },
  {
   "cell_type": "code",
   "execution_count": null,
   "id": "8f4194ac-4b92-40ba-a7c8-907f95bf4a49",
   "metadata": {},
   "outputs": [],
   "source": [
    "# Numbers are assigned to each action\n",
    "label_map = {label: num for num, label in enumerate(actions)}\n",
    "label_map"
   ]
  },
  {
   "cell_type": "code",
   "execution_count": null,
   "id": "245f8dd9-1bbc-4811-942e-2fec142b87ff",
   "metadata": {},
   "outputs": [],
   "source": [
    "# Saved numpy keypoint arrays are loaded into arrays\n",
    "sequences, labels = [], []\n",
    "for action in actions:\n",
    "    for sequence in range(no_sequence):\n",
    "        window = []\n",
    "        for frame_num in range(sequence_length):\n",
    "            res = np.load(os.path.join(DATA_PATH, action, str(sequence), \"{}.npy\".format(frame_num)))\n",
    "            window.append(res)\n",
    "        sequences.append(window)\n",
    "        labels.append(label_map[action])"
   ]
  },
  {
   "cell_type": "code",
   "execution_count": null,
   "id": "7caa3cfd-9eba-4ef5-b525-282a40e0fd95",
   "metadata": {},
   "outputs": [],
   "source": [
    "X = np.array(sequences)"
   ]
  },
  {
   "cell_type": "code",
   "execution_count": null,
   "id": "c01e072b-c806-48b6-9528-1c2b103d4374",
   "metadata": {},
   "outputs": [],
   "source": [
    "y = to_categorical(labels).astype(int)"
   ]
  },
  {
   "cell_type": "code",
   "execution_count": null,
   "id": "bdb71444-9276-4931-a4b3-3d247cad4084",
   "metadata": {},
   "outputs": [],
   "source": [
    "X_train, X_test, y_train, y_test = train_test_split(X, y, test_size=0.05)"
   ]
  },
  {
   "cell_type": "markdown",
   "id": "a01b787b-f750-4e07-8909-c617d2d59743",
   "metadata": {},
   "source": [
    "#### Model Imports"
   ]
  },
  {
   "cell_type": "code",
   "execution_count": null,
   "id": "add0164b-cfe9-4fa0-944c-5b8dbe3d4644",
   "metadata": {},
   "outputs": [],
   "source": [
    "from tensorflow.keras.models import Sequential\n",
    "from tensorflow.keras.layers import LSTM, Dense\n",
    "from tensorflow.keras.callbacks import TensorBoard"
   ]
  },
  {
   "cell_type": "code",
   "execution_count": null,
   "id": "3eb0f356-3923-4282-9f4b-ad021acbdd44",
   "metadata": {},
   "outputs": [],
   "source": [
    "# logs to check model train progress on tensor board\n",
    "## Open terminal in Logs folder and type: tensorboard --logdir=. \n",
    "\n",
    "log_dir = os.path.join('Logs_Gestures')\n",
    "tb_callbacks = TensorBoard(log_dir=log_dir)"
   ]
  },
  {
   "cell_type": "markdown",
   "id": "d498d1b1-efd3-4cf8-a081-5687ffc790a5",
   "metadata": {},
   "source": [
    "#### Training Model"
   ]
  },
  {
   "cell_type": "code",
   "execution_count": null,
   "id": "65454f08-0408-4cea-bf43-8d0bd285869f",
   "metadata": {},
   "outputs": [],
   "source": [
    "model = Sequential()\n",
    "model.add(LSTM(64, return_sequences=True, activation='relu', input_shape=(30,1662)))\n",
    "model.add(LSTM(128, return_sequences=True, activation='relu'))\n",
    "model.add(LSTM(64, return_sequences=False, activation='relu'))\n",
    "model.add(Dense(64, activation='relu'))\n",
    "model.add(Dense(32, activation='relu'))\n",
    "model.add(Dense(actions.shape[0], activation='softmax'))"
   ]
  },
  {
   "cell_type": "code",
   "execution_count": null,
   "id": "d46fb3e0-3e94-47c1-bdb5-7417a177f8ac",
   "metadata": {},
   "outputs": [],
   "source": [
    "model.compile(optimizer='Adam', loss='categorical_crossentropy', metrics=['categorical_accuracy'])"
   ]
  },
  {
   "cell_type": "markdown",
   "id": "5de32d55-06d7-4133-85e2-3e53ebebdc08",
   "metadata": {},
   "source": [
    "#### Fitting Model with train data"
   ]
  },
  {
   "cell_type": "markdown",
   "id": "a0506eb8-368a-4eb0-b24e-44102e836e90",
   "metadata": {
    "tags": []
   },
   "source": [
    "### model.fit(X_train, y_train, epochs=2000, callbacks=[tb_callbacks])"
   ]
  },
  {
   "cell_type": "markdown",
   "id": "7f1e5a31-59a0-4d9b-a427-4621ab06b803",
   "metadata": {},
   "source": [
    "#### Testing the model"
   ]
  },
  {
   "cell_type": "code",
   "execution_count": null,
   "id": "0e3144e5-0450-48df-ad15-3c71b8ba2be7",
   "metadata": {},
   "outputs": [],
   "source": [
    "res = model.predict(X_test)\n",
    "if actions[np.argmax(res[0])] == actions[np.argmax(y_test[0])]:\n",
    "    print('Correct Prediction')\n",
    "else:\n",
    "    print('Incorrect Prediction')"
   ]
  },
  {
   "cell_type": "markdown",
   "id": "cb7919e0-106a-4831-90f8-10af00f0043e",
   "metadata": {},
   "source": [
    "#### Saving Model Weights\n",
    "Model weights are saved to a file so that model does not need to be trained everytime."
   ]
  },
  {
   "cell_type": "code",
   "execution_count": null,
   "id": "349af59f-6da9-4175-b9e3-2b6b688fdf46",
   "metadata": {},
   "outputs": [],
   "source": [
    "model.save('ASL_Gestures.h5')"
   ]
  },
  {
   "cell_type": "code",
   "execution_count": null,
   "id": "3b614389-7292-43f3-86cd-ec671ec6b234",
   "metadata": {},
   "outputs": [],
   "source": [
    "del model"
   ]
  },
  {
   "cell_type": "code",
   "execution_count": null,
   "id": "ccf7aa76-3540-4bd2-89dd-c6cbc631fb9a",
   "metadata": {},
   "outputs": [],
   "source": [
    "# model is loaded using this method\n",
    "model.load_weights('ASL_Gestures.h5')"
   ]
  },
  {
   "cell_type": "markdown",
   "id": "8fd4ddee-24de-4d1d-9ab8-919cb1a39631",
   "metadata": {},
   "source": [
    "## Multilevel Confusion Matrix and Prediction Accuracy Score"
   ]
  },
  {
   "cell_type": "markdown",
   "id": "4563f74c-020a-45b2-a177-bb01d4f63863",
   "metadata": {},
   "source": [
    "#### Imports"
   ]
  },
  {
   "cell_type": "code",
   "execution_count": null,
   "id": "ecac8079-a7d6-464c-8701-94ec169a9800",
   "metadata": {},
   "outputs": [],
   "source": [
    "from sklearn.metrics import multilabel_confusion_matrix, accuracy_score"
   ]
  },
  {
   "cell_type": "code",
   "execution_count": null,
   "id": "f835f167-6bea-4691-aadf-3c7224ef57ab",
   "metadata": {},
   "outputs": [],
   "source": [
    "yhat = model.predict(X_test)\n",
    "ytrue = np.argmax(y_test, axis=1).tolist()\n",
    "yhat = np.argmax(yhat, axis=1).tolist()"
   ]
  },
  {
   "cell_type": "markdown",
   "id": "06e992a2-b11d-4bfa-a412-d56de6b593e0",
   "metadata": {},
   "source": [
    "##### Confusion Matrix"
   ]
  },
  {
   "cell_type": "code",
   "execution_count": null,
   "id": "b20a44ba-299f-4f58-bc11-d46ae7aecf40",
   "metadata": {},
   "outputs": [],
   "source": [
    "multilabel_confusion_matrix(ytrue, yhat)"
   ]
  },
  {
   "cell_type": "markdown",
   "id": "e4cd6bea-bdd4-4c47-bac3-ca491b9258bc",
   "metadata": {},
   "source": [
    "##### Accuracy Score"
   ]
  },
  {
   "cell_type": "code",
   "execution_count": null,
   "id": "ac5ff533-4d27-4fb9-9925-f410ee3b6948",
   "metadata": {},
   "outputs": [],
   "source": [
    "accuracy_score(ytrue, yhat)"
   ]
  },
  {
   "cell_type": "markdown",
   "id": "02b91850-5a40-4f3e-900f-bd7ff10492ee",
   "metadata": {},
   "source": [
    "## Real Time Prediction Testing"
   ]
  },
  {
   "cell_type": "code",
   "execution_count": null,
   "id": "c12b0eb2-3a14-46ef-bc44-929ac4feb025",
   "metadata": {},
   "outputs": [],
   "source": [
    "sequence = []\n",
    "sentence = []\n",
    "predictions = []\n",
    "threshold = 0.5\n",
    "\n",
    "cap = cv2.VideoCapture(0)\n",
    "\n",
    "with mp_holistic.Holistic(min_detection_confidence=0.5, min_tracking_confidence=0.5) as holistic:\n",
    "    while cap.isOpened():\n",
    "        ret, frame = cap.read()\n",
    "        \n",
    "        image, results = mediapipe_detection(frame, holistic)\n",
    "\n",
    "        keypoints = extract_keypoints(results)\n",
    "        sequence.append(keypoints)\n",
    "        sequence = sequence[-30:]\n",
    "        \n",
    "        if len(sequence) == 30:\n",
    "            res = model.predict(np.expand_dims(sequence, axis=0))[0]\n",
    "            predictions.append(np.argmax(res))\n",
    "            \n",
    "            if np.unique(predictions[-10:])[0]==np.argmax(res): \n",
    "                if res[np.argmax(res)] > threshold: \n",
    "                    if len(sentence) > 0: \n",
    "                        if actions[np.argmax(res)] != sentence[-1]:\n",
    "                            sentence.append(actions[np.argmax(res)])\n",
    "                    else:\n",
    "                        sentence.append(actions[np.argmax(res)])\n",
    "\n",
    "            if len(sentence) > 5: \n",
    "                sentence = sentence[-5:]\n",
    "            \n",
    "        cv2.rectangle(image, (0,0), (640, 40), (245, 117, 16), -1)\n",
    "        cv2.putText(image, ' '.join(sentence), (3,30), cv2.FONT_HERSHEY_SIMPLEX, 1, (255, 255, 255), 2, cv2.LINE_AA)\n",
    "        \n",
    "        cv2.imshow('OpenCV Feed', image)\n",
    "\n",
    "        if cv2.waitKey(10) & 0xFF == ord('q'):\n",
    "            break\n",
    "\n",
    "cap.release()\n",
    "cv2.destroyAllWindows()"
   ]
  }
 ],
 "metadata": {
  "kernelspec": {
   "display_name": "Python 3",
   "language": "python",
   "name": "python3"
  },
  "language_info": {
   "codemirror_mode": {
    "name": "ipython",
    "version": 3
   },
   "file_extension": ".py",
   "mimetype": "text/x-python",
   "name": "python",
   "nbconvert_exporter": "python",
   "pygments_lexer": "ipython3",
   "version": "3.9.5"
  }
 },
 "nbformat": 4,
 "nbformat_minor": 5
}
